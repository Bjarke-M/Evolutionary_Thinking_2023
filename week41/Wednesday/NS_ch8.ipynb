{
 "cells": [
  {
   "metadata": {},
   "cell_type": "markdown",
   "source": "# Solution for excercise of Chapter 8",
   "id": "c6af19af38550832"
  },
  {
   "metadata": {
    "ExecuteTime": {
     "end_time": "2024-10-08T11:59:15.129072Z",
     "start_time": "2024-10-08T11:59:15.126273Z"
    }
   },
   "cell_type": "code",
   "source": [
    "# Importing libraries\n",
    "import numpy as np"
   ],
   "id": "d4e8bbd38f97b49e",
   "outputs": [],
   "execution_count": 13
  },
  {
   "metadata": {},
   "cell_type": "markdown",
   "source": "## Excercise 8.1",
   "id": "ec421a4c0238ced2"
  },
  {
   "metadata": {
    "ExecuteTime": {
     "end_time": "2024-10-08T11:59:16.937560Z",
     "start_time": "2024-10-08T11:59:16.932393Z"
    }
   },
   "cell_type": "code",
   "source": [
    "# Given mutation rate\n",
    "mu = 2.2 * (10 ** -9)\n",
    "\n",
    "# Selection coefficient and population sizes\n",
    "s_coef = -0.001\n",
    "N1 = 10 ** 4\n",
    "N2 = 10 ** 3\n",
    "N3 = 10 ** 2\n",
    "\n",
    "# Part (a): Use formulas (8.1) and (8.2) to calculate u_s and r_s for multiple N\n",
    "\n",
    "# Calculate for population size N1\n",
    "u_sN1 = (1 - np.exp(-2 * s_coef)) / (1 - np.exp(-4 * N1 * s_coef))\n",
    "r_sN1 = 2 * N1 * mu * u_sN1\n",
    "print(r_sN1)\n",
    "\n",
    "# Calculate for population size N2\n",
    "u_sN2 = (1 - np.exp(-2 * s_coef)) / (1 - np.exp(-4 * N2 * s_coef))\n",
    "r_sN2 = 2 * N2 * mu * u_sN2\n",
    "print(r_sN2)\n",
    "\n",
    "# Calculate for population size N3\n",
    "u_sN3 = (1 - np.exp(-2 * s_coef)) / (1 - np.exp(-4 * N3 * s_coef))\n",
    "r_sN3 = 2 * N3 * mu * u_sN3\n",
    "print(r_sN3)"
   ],
   "id": "5bcd99a921b21bfb",
   "outputs": [
    {
     "name": "stdout",
     "output_type": "stream",
     "text": [
      "3.742292790015835e-25\n",
      "1.6434906548368011e-10\n",
      "1.7910458567549096e-09\n"
     ]
    }
   ],
   "execution_count": 14
  },
  {
   "metadata": {
    "ExecuteTime": {
     "end_time": "2024-10-08T11:57:44.322938Z",
     "start_time": "2024-10-08T11:57:44.318984Z"
    }
   },
   "cell_type": "code",
   "source": [
    "# Part (b): Calculate the deleterious substitutions to all mutations ratio\n",
    "\n",
    "fr_ratio1 = r_sN1 / mu\n",
    "print(fr_ratio1)\n",
    "\n",
    "fr_ratio2 = r_sN2 / mu\n",
    "print(fr_ratio2)\n",
    "\n",
    "fr_ratio3 = r_sN3 / mu\n",
    "print(fr_ratio3)"
   ],
   "id": "9180d1bdc685e0e7",
   "outputs": [
    {
     "name": "stdout",
     "output_type": "stream",
     "text": [
      "1.7010421772799248e-16\n",
      "0.07470412067440005\n",
      "0.8141117530704134\n"
     ]
    }
   ],
   "execution_count": 10
  },
  {
   "metadata": {},
   "cell_type": "markdown",
   "source": "## Excercise 8.2",
   "id": "f5879001105fd6dc"
  },
  {
   "metadata": {
    "ExecuteTime": {
     "end_time": "2024-10-08T11:54:51.026426Z",
     "start_time": "2024-10-08T11:54:51.021395Z"
    }
   },
   "cell_type": "code",
   "source": [
    "# same as before, but now s_coef will be positive:\n",
    "\n",
    "# Given mutation rate\n",
    "mu = 2.2 * (10 ** -9)\n",
    "\n",
    "# Positive selection coefficient and population sizes\n",
    "s_coef = 0.001\n",
    "N1 = 10 ** 4\n",
    "N2 = 10 ** 3\n",
    "N3 = 10 ** 2\n",
    "\n",
    "\n",
    "# Function to compute u_s and r_s values\n",
    "def calculate_u_r(N, s_coef, mu):\n",
    "    u_s = (1 - np.exp(-2 * s_coef)) / (1 - np.exp(-4 * N * s_coef))\n",
    "    r_s = 2 * N * mu * u_s\n",
    "    return u_s, r_s\n",
    "\n",
    "\n",
    "# Part (a): Calculations for different population sizes\n",
    "_, r_sN1 = calculate_u_r(N1, s_coef, mu)\n",
    "_, r_sN2 = calculate_u_r(N2, s_coef, mu)\n",
    "_, r_sN3 = calculate_u_r(N3, s_coef, mu)\n",
    "\n",
    "# Display the results for r_sN1, r_sN2, and r_sN3\n",
    "print(r_sN1, r_sN2, r_sN3)"
   ],
   "id": "7d7b8819c1ff6aa",
   "outputs": [
    {
     "name": "stdout",
     "output_type": "stream",
     "text": [
      "8.791205863734454e-08 8.955226559566271e-09 2.6665879311196486e-09\n"
     ]
    }
   ],
   "execution_count": 5
  },
  {
   "metadata": {
    "ExecuteTime": {
     "end_time": "2024-10-08T11:55:01.590937Z",
     "start_time": "2024-10-08T11:55:01.587179Z"
    }
   },
   "cell_type": "code",
   "source": [
    "# Part (b): Calculate the deleterious substitutions to all mutations ratio\n",
    "fr_ratio1 = r_sN1 / mu\n",
    "fr_ratio2 = r_sN2 / mu\n",
    "fr_ratio3 = r_sN3 / mu\n",
    "\n",
    "print(fr_ratio1, fr_ratio2, fr_ratio3)"
   ],
   "id": "fb07614bf406434",
   "outputs": [
    {
     "name": "stdout",
     "output_type": "stream",
     "text": [
      "39.960026653338424 4.070557527075577 1.2120854232362037\n"
     ]
    }
   ],
   "execution_count": 6
  },
  {
   "metadata": {},
   "cell_type": "markdown",
   "source": "## Excercise 8.3",
   "id": "723ddd38de27224f"
  },
  {
   "metadata": {
    "ExecuteTime": {
     "end_time": "2024-10-08T12:00:02.395011Z",
     "start_time": "2024-10-08T12:00:02.391706Z"
    }
   },
   "cell_type": "code",
   "source": [
    "# Given values\n",
    "fix_prob = 0.002  # Fixation probability for the recessive advantageous mutant\n",
    "N = 10 ** 4  # Effective population size\n",
    "pi = np.pi  # Use numpy's constant for pi\n",
    "\n",
    "# Calculate the selection coefficient (s_coef) using the formula:\n",
    "# fix_prob = sqrt(2 * s_coef / (N * pi))\n",
    "s_coef = (fix_prob ** 2 * N * pi) / 2\n",
    "\n",
    "# Display the result for s_coef\n",
    "print(s_coef)"
   ],
   "id": "91a79d886fd34e20",
   "outputs": [
    {
     "name": "stdout",
     "output_type": "stream",
     "text": [
      "0.06283185307179587\n"
     ]
    }
   ],
   "execution_count": 15
  },
  {
   "metadata": {},
   "cell_type": "markdown",
   "source": "## Excercise 8.4",
   "id": "9a8773de6aa555c8"
  },
  {
   "metadata": {
    "ExecuteTime": {
     "end_time": "2024-10-08T12:01:10.104296Z",
     "start_time": "2024-10-08T12:01:10.100543Z"
    }
   },
   "cell_type": "code",
   "source": [
    "# Given values\n",
    "L_seq = 10 ** 3  # Length of the sequence\n",
    "d_seq = 4  # Number of non-synonymous substitutions\n",
    "\n",
    "# and we would like to use formula (8.3), but for that we also need the time of species divergence, \n",
    "# which the textbook answers provide as:\n",
    "T_div = 6 * 10 ** 6  # Time of species divergence\n",
    "\n",
    "# then we just apply the formula:\n",
    "r_nss = d_seq / (2 * L_seq * T_div)\n",
    "\n",
    "# Display the result for r_nss\n",
    "print(r_nss)"
   ],
   "id": "cfc22348ebcb3fbe",
   "outputs": [
    {
     "name": "stdout",
     "output_type": "stream",
     "text": [
      "3.333333333333333e-10\n"
     ]
    }
   ],
   "execution_count": 16
  },
  {
   "metadata": {},
   "cell_type": "markdown",
   "source": "## Excercise 8.5",
   "id": "3d5173a2d4b31d27"
  },
  {
   "metadata": {
    "ExecuteTime": {
     "end_time": "2024-10-08T12:01:31.279329Z",
     "start_time": "2024-10-08T12:01:31.275411Z"
    }
   },
   "cell_type": "code",
   "source": [
    "# Given values\n",
    "r_N_ins = 0.13 * 10 ** -9  # Rate of non-synonymous substitutions for insertions\n",
    "r_N_hist = 10 ** -13  # Rate of non-synonymous substitutions for histones\n",
    "mu = 2.2 * 10 ** -9  # Mutation rate\n",
    "\n",
    "# We then want to calculate alpha. We know that r_N = (1-alpha) * mu from formula (8.4):\n",
    "\n",
    "# Calculate the fraction of non-deleterious mutations for insertions\n",
    "ndm_frac_ins = 1 - (r_N_ins / mu)\n",
    "\n",
    "# Display the result for ndm_frac_ins\n",
    "print(ndm_frac_ins)\n",
    "\n",
    "# Calculate the fraction of non-deleterious mutations for histones\n",
    "ndm_frac_hist = 1 - (r_N_hist / mu)\n",
    "\n",
    "# Display the result for ndm_frac_hist\n",
    "print(ndm_frac_hist)"
   ],
   "id": "189a302dd87578ff",
   "outputs": [
    {
     "name": "stdout",
     "output_type": "stream",
     "text": [
      "0.9409090909090909\n",
      "0.9999545454545454\n"
     ]
    }
   ],
   "execution_count": 17
  },
  {
   "metadata": {},
   "cell_type": "markdown",
   "source": "## Excercise 8.6",
   "id": "40b032ab67adbc67"
  },
  {
   "metadata": {
    "ExecuteTime": {
     "end_time": "2024-10-08T12:01:58.488959Z",
     "start_time": "2024-10-08T12:01:58.483859Z"
    }
   },
   "cell_type": "code",
   "source": [
    "# Given values\n",
    "r_syn = 0.8 * 10 ** -9  # Rate of synonymous substitutions\n",
    "N = 100  # Effective population size\n",
    "mu = 2.2 * 10 ** -9  # Mutation rate\n",
    "\n",
    "# Ratios for deleterious and slightly deleterious substitutions\n",
    "del_ns_ratio = 2 / 3  # Ratio of deleterious non-synonymous to synonymous mutations\n",
    "sdel_ss_ratio = 1 / 3  # Ratio of slightly deleterious to synonymous substitutions\n",
    "s_coef = 10 ** -3  # Selection coefficient\n",
    "\n",
    "# We want to calculate ndm_alpha. We know that:\n",
    "# r_syn = (1 - ndm_alpha) * mu + sdel_ss_ratio * ndm_alpha * mu * 2 * N * u_sn / 3\n",
    "\n",
    "# From (8.1), we also know that:\n",
    "u_sn = (1 - np.exp(-2 * s_coef)) / (1 - np.exp(-4 * N * s_coef))\n",
    "\n",
    "# We calculate ndm_alpha from above:\n",
    "ndm_alpha = mu - r_syn / (mu * sdel_ss_ratio * 2 * N * u_sn)\n",
    "\n",
    "# Display the result for ndm_alpha\n",
    "print(ndm_alpha)"
   ],
   "id": "2e5dc766eea653ba",
   "outputs": [
    {
     "name": "stdout",
     "output_type": "stream",
     "text": [
      "-0.9000265718317393\n"
     ]
    }
   ],
   "execution_count": 18
  },
  {
   "metadata": {},
   "cell_type": "markdown",
   "source": "## Excercise 8.7",
   "id": "9562fb1389e501"
  },
  {
   "metadata": {
    "ExecuteTime": {
     "end_time": "2024-10-08T12:02:23.871333Z",
     "start_time": "2024-10-08T12:02:23.867372Z"
    }
   },
   "cell_type": "code",
   "source": [
    "# We remember from page 157 that, for strongly advantageous alleles, u ~= 2s; \n",
    "# so we apply formula (8.1)\n",
    "\n",
    "N = 10 ** 4  # Effective population size\n",
    "s_coef = 0.01  # Selection coefficient\n",
    "mu = 2.2 * 10 ** -9  # Mutation rate\n",
    "\n",
    "adv = 8 * 10 ** -4  # Rate of advantageous substitutions\n",
    "r_sub_adv = 4 * N * s_coef * mu  # Rate of advantageous substitutions\n",
    "\n",
    "# We also know that r_tot = r_sub_adv + r_sub_neu, and r_sub_neu = 1 - ndm_alpha - adv; \n",
    "# from here we get ndm_alpha:\n",
    "# (adv * 4 * N * s_coef + 1 - ndm_alpha - adv) = (0.8 * 10 ** -9) / (2.2 * 10 ** -9)\n",
    "\n",
    "# We then obtain ndm_alpha:\n",
    "ndm_alpha = (adv * 4 * N * s_coef + 1 - adv - (0.8 * 10 ** -9) / (2.2 * 10 ** -9))\n",
    "\n",
    "# Display the result for ndm_alpha\n",
    "print(ndm_alpha)"
   ],
   "id": "b16a4f996a12b180",
   "outputs": [
    {
     "name": "stdout",
     "output_type": "stream",
     "text": [
      "0.9555636363636365\n"
     ]
    }
   ],
   "execution_count": 19
  },
  {
   "metadata": {},
   "cell_type": "markdown",
   "source": "## Excercise 8.8",
   "id": "90bad5607e0476f0"
  },
  {
   "metadata": {
    "ExecuteTime": {
     "end_time": "2024-10-08T12:02:53.571923Z",
     "start_time": "2024-10-08T12:02:53.568185Z"
    }
   },
   "cell_type": "code",
   "source": [
    "dlt = 47 / 54  # Proportion of a certain trait\n",
    "c_dist = 0.023  # Cost distance\n",
    "f_B = 0.086  # Frequency of trait B\n",
    "\n",
    "# From Box 8.5, formula B8.1:\n",
    "t = np.log((dlt - f_B) / (1 - f_B)) / np.log(1 - c_dist)\n",
    "\n",
    "# Display the result for t\n",
    "print(t)"
   ],
   "id": "eba9662689960d7d",
   "outputs": [
    {
     "name": "stdout",
     "output_type": "stream",
     "text": [
      "6.573196255486635\n"
     ]
    }
   ],
   "execution_count": 20
  },
  {
   "metadata": {},
   "cell_type": "markdown",
   "source": "## Excercise 8.9",
   "id": "6a33c59084806e3e"
  },
  {
   "metadata": {
    "ExecuteTime": {
     "end_time": "2024-10-08T12:03:56.981362Z",
     "start_time": "2024-10-08T12:03:56.977668Z"
    }
   },
   "cell_type": "code",
   "source": [
    "# We use LD mapping to estimate recombination distance between the CSF1R allele and DTD-causing locus \n",
    "# using the formula B8.1 in Box 8.5; we are given:\n",
    "\n",
    "t = 100  # Time or number of generations\n",
    "f_B = 0.03  # Frequency of trait B\n",
    "dlt = 139 / 146  # Proportion of a certain trait\n",
    "\n",
    "# Calculate the log distance using the formula\n",
    "log_dist = np.log((dlt - f_B) / (1 - f_B)) / t  # log_dist is ln(1-c)\n",
    "\n",
    "# We then calculate the distance; dist is expressed in centiMorgans\n",
    "dist = 1 - np.exp(log_dist)\n",
    "\n",
    "# Display the result for dist\n",
    "print(dist)\n",
    "\n",
    "# Note: dist is expressed in centiMorgans; 1cM ~ 1mb; \n",
    "# also, it looks about twice as large as in the textbook answer..."
   ],
   "id": "1a970f7c3bb6db67",
   "outputs": [
    {
     "name": "stdout",
     "output_type": "stream",
     "text": [
      "0.0011416250442822795\n"
     ]
    }
   ],
   "execution_count": 22
  },
  {
   "metadata": {},
   "cell_type": "markdown",
   "source": "## Excercise 8.10",
   "id": "6028d41b364db59"
  },
  {
   "metadata": {
    "ExecuteTime": {
     "end_time": "2024-10-08T12:05:21.763643Z",
     "start_time": "2024-10-08T12:05:21.760654Z"
    }
   },
   "cell_type": "code",
   "source": [
    "# no homozygotes at our locus; 10 alleles; 10 islands, each of population N/10\n",
    "\n",
    "# a. The effective migration rate is the probability that recombination will move the neutral locus on one genetic background (say S1) to any other genetic background (S2, . . . S10). Because there are no homozygotes, every copy of S1 is in a heterozygote, so every recombination event will move the neutral locus to another genetic background. Therefore, the effective migration rate is c, the recombination rate. \n",
    "\n",
    "# b. for any given allele (e.g. S1) in a specific deme, the probability for another to be in the same deme is 0.1 and in another deme 0.9; from page 69, formula (4.17), and considering that for an island model M = 2Nm (so here: M = 2Nc/10), here we have: H_T = (1+(9/4Nc)) * theta/k\n",
    "\n",
    "# c. The number of alleles s_no is present in the numerator above (as 1-s_no = 9 in (1+(9/4Nc))). If s_no were to increase, Ht would also increase"
   ],
   "id": "60dff94244e12ab0",
   "outputs": [],
   "execution_count": 23
  }
 ],
 "metadata": {
  "kernelspec": {
   "display_name": "Python 3",
   "language": "python",
   "name": "python3"
  },
  "language_info": {
   "codemirror_mode": {
    "name": "ipython",
    "version": 2
   },
   "file_extension": ".py",
   "mimetype": "text/x-python",
   "name": "python",
   "nbconvert_exporter": "python",
   "pygments_lexer": "ipython2",
   "version": "2.7.6"
  }
 },
 "nbformat": 4,
 "nbformat_minor": 5
}
