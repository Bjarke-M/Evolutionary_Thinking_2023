{
 "cells": [
  {
   "metadata": {},
   "cell_type": "markdown",
   "source": "# Solution for excercise of Chapter 7",
   "id": "c6af19af38550832"
  },
  {
   "metadata": {
    "ExecuteTime": {
     "end_time": "2024-10-07T14:14:23.080988Z",
     "start_time": "2024-10-07T14:14:10.254598Z"
    }
   },
   "cell_type": "code",
   "source": [
    "# Importing libraries\n",
    "import numpy as np\n",
    "import matplotlib.pyplot as plt\n",
    "import math\n",
    "import pandas as pd"
   ],
   "id": "d4e8bbd38f97b49e",
   "outputs": [],
   "execution_count": 1
  },
  {
   "metadata": {},
   "cell_type": "markdown",
   "source": [
    "\n",
    "## Excercise 7.1"
   ],
   "id": "ec421a4c0238ced2"
  },
  {
   "metadata": {
    "ExecuteTime": {
     "end_time": "2024-10-07T14:14:23.092928Z",
     "start_time": "2024-10-07T14:14:23.089095Z"
    }
   },
   "cell_type": "code",
   "source": [
    "# Function to calculate the time difference based on the formula\n",
    "def calculate_time_difference(sel_coef, fA_init, fA_fin):\n",
    "    # Calculate the placeholder value used in the formula\n",
    "    plhlder = ((fA_init / fA_fin) - fA_init) / (1 - fA_init)\n",
    "    \n",
    "    # Calculate the transition time using the formula\n",
    "    trtime = math.log(plhlder) / math.log(1 - sel_coef)\n",
    "    \n",
    "    return trtime\n",
    "\n",
    "# Given parameters\n",
    "s_coef1 = 0.01  # Selection coefficient for part (a)\n",
    "s_coef2 = 0.011  # Selection coefficient for part (b)\n",
    "fA_0 = 0.1  # Initial allele frequency\n",
    "fA_1 = 0.9  # Final allele frequency\n",
    "\n",
    "# Calculating the time for each selection coefficient\n",
    "time1 = calculate_time_difference(s_coef1, fA_0, fA_1)  # Time with s_coef 0.01\n",
    "time2 = calculate_time_difference(s_coef2, fA_0, fA_1)  # Time with s_coef 0.011\n",
    "\n",
    "# Output results\n",
    "print(f\"Time with s_coef 0.01: {time1}\")\n",
    "print(f\"Time with s_coef 0.011: {time2}\")"
   ],
   "id": "c98cde437bd72c9e",
   "outputs": [
    {
     "name": "stdout",
     "output_type": "stream",
     "text": [
      "Time with s_coef 0.01: 437.24401042194523\n",
      "Time with s_coef 0.011: 397.29410256418606\n"
     ]
    }
   ],
   "execution_count": 2
  },
  {
   "metadata": {},
   "cell_type": "markdown",
   "source": "## Excercise 7.2",
   "id": "64f55acecd4d824d"
  },
  {
   "metadata": {
    "ExecuteTime": {
     "end_time": "2024-10-07T14:14:23.178522Z",
     "start_time": "2024-10-07T14:14:23.175333Z"
    }
   },
   "cell_type": "code",
   "source": [
    "# Function to calculate the time generation using the formula from Box 7.1\n",
    "def calculate_time_generation(N, fA_final, sel_coef):\n",
    "    # Calculate the initial allele frequency\n",
    "    fA_init = 1 / (2 * N)\n",
    "    \n",
    "    # Calculate the time generation using the formula\n",
    "    time_gen = math.log(abs((fA_init / fA_final - fA_init) / (1 - fA_init))) / math.log(1 - sel_coef)\n",
    "    \n",
    "    return time_gen\n",
    "\n",
    "# Parameters for N=10^4\n",
    "N1 = 10**4\n",
    "fA_final = 0.9\n",
    "s_coef = 0.01\n",
    "\n",
    "# Calculating time generation for N=10^4\n",
    "time_gen1 = calculate_time_generation(N1, fA_final, s_coef)\n",
    "print(f\"Time generation with N=10^4: {time_gen1}\")\n",
    "\n",
    "# Parameters for N=10^5\n",
    "N2 = 10**5\n",
    "\n",
    "# Calculating time generation for N=10^5\n",
    "time_gen2 = calculate_time_generation(N2, fA_final, s_coef)\n",
    "print(f\"Time generation with N=10^5: {time_gen2}\")"
   ],
   "id": "57e4beea7c26cd6a",
   "outputs": [
    {
     "name": "stdout",
     "output_type": "stream",
     "text": [
      "Time generation with N=10^4: 1204.0057471717762\n",
      "Time generation with N=10^5: 1433.1155130339162\n"
     ]
    }
   ],
   "execution_count": 3
  },
  {
   "metadata": {},
   "cell_type": "markdown",
   "source": "## Excercise 7.3",
   "id": "cb659b8ee911d9e"
  },
  {
   "metadata": {
    "ExecuteTime": {
     "end_time": "2024-10-07T14:14:23.186223Z",
     "start_time": "2024-10-07T14:14:23.183391Z"
    }
   },
   "cell_type": "code",
   "source": [
    "# Calculating the selection coefficient (s_coef) using the given formula\n",
    "s_coef = 1 - (1 / 0.95)\n",
    "\n",
    "# Function to calculate the time required for allele frequency change\n",
    "def time_function(sel_coef, fA_init, fA_fin):\n",
    "    # Calculate the placeholder value based on the formula\n",
    "    placeholder = ((fA_init / fA_fin) - fA_init) / (1 - fA_init)\n",
    "    \n",
    "    # Calculate the transition time using the formula\n",
    "    transition_time = math.log(placeholder) / math.log(1 - sel_coef)\n",
    "    \n",
    "    return transition_time\n",
    "\n",
    "# Given initial and final allele frequencies\n",
    "fA_init = 0.1\n",
    "fA_fin = 0.01\n",
    "\n",
    "# Applying the function to calculate the time for the decreasing allele frequency\n",
    "result = time_function(s_coef, fA_init, fA_fin)\n",
    "print(f\"Transition time: {result}\")"
   ],
   "id": "bbc5645cb506ff6",
   "outputs": [
    {
     "name": "stdout",
     "output_type": "stream",
     "text": [
      "Transition time: 46.74870860664332\n"
     ]
    }
   ],
   "execution_count": 4
  },
  {
   "metadata": {},
   "cell_type": "markdown",
   "source": "## Excercise 7.4",
   "id": "7757068c8d1630bc"
  },
  {
   "metadata": {
    "ExecuteTime": {
     "end_time": "2024-10-07T14:14:23.228795Z",
     "start_time": "2024-10-07T14:14:23.225878Z"
    }
   },
   "cell_type": "code",
   "source": [
    "# Given values\n",
    "s_aa = 1  # Homozygotes for the recessive allele are lethal\n",
    "f_a = 0.02  # Allele frequency\n",
    "\n",
    "# Part (a): Calculating the mutation rate (mu) using the formula f_a = sqrt(mu / s_aa)\n",
    "# Rearranging gives mu = s_aa * f_a^2\n",
    "mu = s_aa * (f_a ** 2)\n",
    "print(f\"Mutation rate (mu): {mu}\")\n",
    "\n",
    "# Part (b): Calculating the selection coefficient for homozygotes for allele A (s_AA)\n",
    "# Using the formula: s_AA = s_aa * f_a / (1 - f_a)\n",
    "s_AA = s_aa * f_a / (1 - f_a)\n",
    "print(f\"Selection coefficient (s_AA): {s_AA}\")\n",
    "\n",
    "# Calculating the viability proportion for homozygotes relative to heterozygotes\n",
    "viability_proportion = 1 - s_AA\n",
    "print(f\"Viability proportion: {viability_proportion}\")"
   ],
   "id": "4c6e4bf0890daf20",
   "outputs": [
    {
     "name": "stdout",
     "output_type": "stream",
     "text": [
      "Mutation rate (mu): 0.0004\n",
      "Selection coefficient (s_AA): 0.020408163265306124\n",
      "Viability proportion: 0.9795918367346939\n"
     ]
    }
   ],
   "execution_count": 5
  },
  {
   "metadata": {},
   "cell_type": "markdown",
   "source": "## Excercise 7.5",
   "id": "69a54cc5ee59dbfe"
  },
  {
   "metadata": {
    "ExecuteTime": {
     "end_time": "2024-10-07T14:14:23.261587Z",
     "start_time": "2024-10-07T14:14:23.258639Z"
    }
   },
   "cell_type": "code",
   "source": [
    "# A at Hardy-Weinberg equilibrium, so f_A(t) is constant. We are given:\n",
    "f_A = 0.11  # Allele frequency at Hardy-Weinberg equilibrium\n",
    "s_AA = 0.5  # Selection coefficient for homozygotes of allele A\n",
    "\n",
    "# We can use equation (7.9) that describes f_A at equilibrium as a function of \n",
    "# selection coefficients for the two homozygote genotypes, as we already know the equilibrium frequency:\n",
    "\n",
    "# f_A = s_BB / (s_AA + s_BB)\n",
    "\n",
    "# From which we get s_BB:\n",
    "# f_A * s_AA + f_A * s_BB = s_BB\n",
    "# s_BB - f_A * s_BB = f_A * s_AA\n",
    "# s_BB * (1 - f_A) = f_A * s_AA\n",
    "# s_BB = f_A * s_AA / (1 - f_A)\n",
    "\n",
    "# Calculating the selection coefficient for homozygotes of allele B (s_BB) using the formula above:\n",
    "s_BB = (f_A * s_AA) / (1 - f_A)\n",
    "\n",
    "# Display the result\n",
    "print(f\"Selection coefficient (s_BB): {s_BB}\")"
   ],
   "id": "29a4eddfb8b3d61d",
   "outputs": [
    {
     "name": "stdout",
     "output_type": "stream",
     "text": [
      "Selection coefficient (s_BB): 0.06179775280898876\n"
     ]
    }
   ],
   "execution_count": 6
  },
  {
   "metadata": {},
   "cell_type": "markdown",
   "source": "## Excercise 7.6",
   "id": "dae678f3a14e2a33"
  },
  {
   "metadata": {
    "ExecuteTime": {
     "end_time": "2024-10-07T14:14:23.283027Z",
     "start_time": "2024-10-07T14:14:23.279850Z"
    }
   },
   "cell_type": "code",
   "source": [
    "# Changed notations from B/b to A/a to reduce potential confusion\n",
    "# Under Hardy-Weinberg equilibrium, we know that in the first generation:\n",
    "\n",
    "f_A0 = 1 / 4  # Initial frequency of allele A\n",
    "\n",
    "# Genotype frequencies at the start:\n",
    "f_AA0 = f_A0 ** 2  # Frequency of homozygous dominant genotype AA\n",
    "f_Aa0 = 2 * f_A0 * (1 - f_A0)  # Frequency of heterozygous genotype Aa\n",
    "f_aa0 = (1 - f_A0) ** 2  # Frequency of homozygous recessive genotype aa\n",
    "\n",
    "# There is no fertility effect on our locus; we also know the viabilities.\n",
    "# So, in the next generation, we will have:\n",
    "\n",
    "v_AA = 1 / 5  # Viability of homozygous dominant genotype AA\n",
    "v_Aa = 1 / 6  # Viability of heterozygous genotype Aa\n",
    "v_aa = 1 / 10  # Viability of homozygous recessive genotype aa\n",
    "\n",
    "# Average viability across the population:\n",
    "v_avg = v_AA * (f_A0 ** 2) + 2 * v_Aa * (f_A0 * (1 - f_A0)) + v_aa * ((1 - f_A0) ** 2)\n",
    "\n",
    "# We can then calculate the new allele frequency in the next generation:\n",
    "\n",
    "f_AA1 = v_AA * (f_A0 ** 2) / v_avg  # New frequency of homozygous dominant genotype AA\n",
    "f_Aa1 = 2 * v_Aa * (f_A0 * (1 - f_A0)) / v_avg  # New frequency of heterozygous genotype Aa\n",
    "\n",
    "# New frequency of allele A:\n",
    "f_A1 = f_AA1 + f_Aa1 / 2\n",
    "\n",
    "# Display the new allele frequency\n",
    "print(f\"New frequency of allele A (f_A1): {f_A1}\")"
   ],
   "id": "99e7afaff311f102",
   "outputs": [
    {
     "name": "stdout",
     "output_type": "stream",
     "text": [
      "New frequency of allele A (f_A1): 0.3333333333333333\n"
     ]
    }
   ],
   "execution_count": 7
  },
  {
   "metadata": {},
   "cell_type": "markdown",
   "source": "## Excercise 7.7",
   "id": "e494f77ddb2e2f0b"
  },
  {
   "metadata": {
    "ExecuteTime": {
     "end_time": "2024-10-07T14:14:23.296046Z",
     "start_time": "2024-10-07T14:14:23.293002Z"
    }
   },
   "cell_type": "code",
   "source": [
    "# Under Hardy-Weinberg equilibrium, we are given:\n",
    "f_S = 0.2  # Initial frequency of allele S\n",
    "f_A = 1 - f_S  # Frequency of allele A\n",
    "\n",
    "# Viabilities of the genotypes:\n",
    "v_SS = 0.1  # Viability of homozygous SS genotype\n",
    "v_AS = 1  # Viability of heterozygous AS genotype\n",
    "v_AA = 0.85  # Viability of homozygous AA genotype\n",
    "\n",
    "# a. Calculating the average viability using the third equation from Box 7.3:\n",
    "v_avg = v_AA * (f_A ** 2) + 2 * v_AS * f_A * f_S + v_SS * (f_S ** 2)\n",
    "\n",
    "# Display the average viability\n",
    "print(f\"Average viability (v_avg): {v_avg}\")\n",
    "\n",
    "# b. Calculating genotype frequencies before selection:\n",
    "f_AA = f_A ** 2  # Frequency of homozygous AA genotype\n",
    "f_AS = 2 * f_A * f_S  # Frequency of heterozygous AS genotype\n",
    "f_SS = f_S ** 2  # Frequency of homozygous SS genotype\n",
    "\n",
    "# Calculating the genotype frequencies after selection using Box 7.3 equations:\n",
    "fpr_AA = f_AA * v_AA / v_avg  # Frequency of AA genotype after selection\n",
    "fpr_AS = f_AS * v_AS / v_avg  # Frequency of AS genotype after selection\n",
    "fpr_SS = f_SS * v_SS / v_avg  # Frequency of SS genotype after selection\n",
    "\n",
    "# Display the new genotype frequencies\n",
    "print(f\"Frequency of AA genotype after selection (fpr_AA): {fpr_AA}\")\n",
    "print(f\"Frequency of AS genotype after selection (fpr_AS): {fpr_AS}\")\n",
    "print(f\"Frequency of SS genotype after selection (fpr_SS): {fpr_SS}\")"
   ],
   "id": "59c53314ea1d49dc",
   "outputs": [
    {
     "name": "stdout",
     "output_type": "stream",
     "text": [
      "Average viability (v_avg): 0.8680000000000001\n",
      "Frequency of AA genotype after selection (fpr_AA): 0.6267281105990783\n",
      "Frequency of AS genotype after selection (fpr_AS): 0.3686635944700461\n",
      "Frequency of SS genotype after selection (fpr_SS): 0.004608294930875577\n"
     ]
    }
   ],
   "execution_count": 8
  },
  {
   "metadata": {},
   "cell_type": "markdown",
   "source": "## Excercise 7.8",
   "id": "1529d55ac5e27d93"
  },
  {
   "metadata": {
    "ExecuteTime": {
     "end_time": "2024-10-07T14:14:23.304634Z",
     "start_time": "2024-10-07T14:14:23.301690Z"
    }
   },
   "cell_type": "code",
   "source": [
    "# Population size\n",
    "N = 10**4\n",
    "\n",
    "# No drift; genic selection for the newly introduced allele\n",
    "# Initial frequency of allele B and target frequency:\n",
    "f_B0 = 1 / (2 * N)  # Initial frequency of allele B\n",
    "f_B1 = 0.99  # Target frequency of allele B\n",
    "\n",
    "# Assuming a selection coefficient between 0.1 and 0.2\n",
    "# Corresponding to v_AB of 0.8-0.9 (where A is the initial dark allele and B is the introduced light allele)\n",
    "\n",
    "# Calculation for selection coefficient of 0.1\n",
    "s_coef = 0.1\n",
    "t_gen = (math.log((f_B0 / f_B1 - f_B0) / (1 - f_B0)) / math.log(1 - s_coef))\n",
    "print(f\"Time for allele frequency change with s_coef = 0.1: {t_gen}\")\n",
    "\n",
    "# Calculation for selection coefficient of 0.2\n",
    "s_coef = 0.2\n",
    "t_gen = (math.log((f_B0 / f_B1 - f_B0) / (1 - f_B0)) / math.log(1 - s_coef))\n",
    "print(f\"Time for allele frequency change with s_coef = 0.2: {t_gen}\")"
   ],
   "id": "fdcb32d308002468",
   "outputs": [
    {
     "name": "stdout",
     "output_type": "stream",
     "text": [
      "Time for allele frequency change with s_coef = 0.1: 137.60902090216481\n",
      "Time for allele frequency change with s_coef = 0.2: 64.97412681671082\n"
     ]
    }
   ],
   "execution_count": 9
  },
  {
   "metadata": {},
   "cell_type": "markdown",
   "source": "## Excercise 7.9",
   "id": "f902d06b7e7d561e"
  },
  {
   "metadata": {
    "ExecuteTime": {
     "end_time": "2024-10-07T14:14:23.325652Z",
     "start_time": "2024-10-07T14:14:23.315575Z"
    }
   },
   "cell_type": "code",
   "source": [
    "# Creating a DataFrame containing all maternal/paternal genotype combinations and their offspring ratios\n",
    "mat_v = [\"AA\", \"AA\", \"AA\", \"Aa\", \"Aa\", \"Aa\", \"aa\", \"aa\", \"aa\"]\n",
    "pat_v = [\"AA\", \"Aa\", \"aa\", \"AA\", \"Aa\", \"aa\", \"AA\", \"Aa\", \"aa\"]\n",
    "freq_v = [1/16, 1/8, 1/16, 1/8, 1/4, 1/8, 1/16, 1/8, 1/16]\n",
    "fert_v = [1, 1, 1, 1, 1, 1, 1, 1, 1/2]\n",
    "AA_v = [1, 1/2, 0, 1/2, 1/4, 0, 0, 0, 0]\n",
    "Aa_v = [0, 1/2, 1, 1/2, 1/2, 1/2, 1, 1/2, 0]\n",
    "aa_v = [0, 0, 0, 0, 1/4, 1/2, 0, 1/2, 1]\n",
    "\n",
    "matepairs = pd.DataFrame({\n",
    "    'mat_v': mat_v,\n",
    "    'pat_v': pat_v,\n",
    "    'freq_v': freq_v,\n",
    "    'fert_v': fert_v,\n",
    "    'AA_v': AA_v,\n",
    "    'Aa_v': Aa_v,\n",
    "    'aa_v': aa_v\n",
    "})\n",
    "\n",
    "print(matepairs)\n",
    "\n",
    "# a. Calculate the average viability\n",
    "viab_avg = sum(freq_v) - (freq_v[8] * fert_v[8])\n",
    "\n",
    "# Using the genotype frequency formulas; in the second generation, the newborn offspring will have the frequencies\n",
    "fpr_AA = sum(matepairs['freq_v'] * matepairs['fert_v'] * matepairs['AA_v']) / viab_avg\n",
    "fpr_Aa = sum(matepairs['freq_v'] * matepairs['fert_v'] * matepairs['Aa_v']) / viab_avg\n",
    "fpr_aa = sum(matepairs['freq_v'] * matepairs['fert_v'] * matepairs['aa_v']) / viab_avg\n",
    "\n",
    "# Print the frequencies\n",
    "print(fpr_AA, fpr_Aa, fpr_aa)\n",
    "\n",
    "# b. Calculate the offspring allele A frequency\n",
    "fpr_A = fpr_AA + fpr_Aa / 2\n",
    "\n",
    "# Test if the expected f_AA under H-W is equal to the one we calculated above\n",
    "fexp_AA = fpr_A ** 2\n",
    "\n",
    "print(fexp_AA == fpr_AA)"
   ],
   "id": "f03257c82de6149d",
   "outputs": [
    {
     "name": "stdout",
     "output_type": "stream",
     "text": [
      "  mat_v pat_v  freq_v  fert_v  AA_v  Aa_v  aa_v\n",
      "0    AA    AA  0.0625     1.0  1.00   0.0  0.00\n",
      "1    AA    Aa  0.1250     1.0  0.50   0.5  0.00\n",
      "2    AA    aa  0.0625     1.0  0.00   1.0  0.00\n",
      "3    Aa    AA  0.1250     1.0  0.50   0.5  0.00\n",
      "4    Aa    Aa  0.2500     1.0  0.25   0.5  0.25\n",
      "5    Aa    aa  0.1250     1.0  0.00   0.5  0.50\n",
      "6    aa    AA  0.0625     1.0  0.00   1.0  0.00\n",
      "7    aa    Aa  0.1250     1.0  0.00   0.5  0.50\n",
      "8    aa    aa  0.0625     0.5  0.00   0.0  1.00\n",
      "0.25806451612903225 0.5161290322580645 0.22580645161290322\n",
      "False\n"
     ]
    }
   ],
   "execution_count": 10
  },
  {
   "metadata": {},
   "cell_type": "markdown",
   "source": "## Excercise 7.10",
   "id": "bd890017368dc6be"
  },
  {
   "metadata": {
    "ExecuteTime": {
     "end_time": "2024-10-07T14:15:23.959864Z",
     "start_time": "2024-10-07T14:15:23.954213Z"
    }
   },
   "cell_type": "code",
   "source": [
    "# Under H-W; no effect on viability, but reduced heterozygote fertility\n",
    "f_AA0 = 0.01\n",
    "f_Aa0 = 0.18\n",
    "f_aa0 = 0.81\n",
    "\n",
    "f_A0 = 0.1\n",
    "\n",
    "# a. Build a DataFrame showing fertilites for all mating pairs\n",
    "pat_v = [\"AA\", \"AA\", \"AA\", \"Aa\", \"Aa\", \"Aa\", \"aa\", \"aa\", \"aa\"]\n",
    "mat_v = [\"AA\", \"Aa\", \"aa\", \"AA\", \"Aa\", \"aa\", \"AA\", \"Aa\", \"aa\"]\n",
    "fert_v = [1, 0.5, 1, 0.5, 0.25, 0.5, 1, 0.5, 1]\n",
    "\n",
    "fert_df = pd.DataFrame({\n",
    "    'pat_v': pat_v,\n",
    "    'mat_v': mat_v,\n",
    "    'fert_v': fert_v\n",
    "})\n",
    "\n",
    "print(fert_df)\n",
    "\n",
    "# b. Explanation of effects of translocations on heterozygote fertility\n",
    "# Translocations reduce heterozygote fertility because half of their gametes are aneuploid,\n",
    "# resulting in non-viable embryos. Also, for either allele being rare,\n",
    "# most of its copies will be present in heterozygotes (which have lower viability than either homozygote);\n",
    "# over time, this will drive extinction of the rare allele and fixation of the other."
   ],
   "id": "abf9fd0dc19d8155",
   "outputs": [
    {
     "name": "stdout",
     "output_type": "stream",
     "text": [
      "  pat_v mat_v  fert_v\n",
      "0    AA    AA    1.00\n",
      "1    AA    Aa    0.50\n",
      "2    AA    aa    1.00\n",
      "3    Aa    AA    0.50\n",
      "4    Aa    Aa    0.25\n",
      "5    Aa    aa    0.50\n",
      "6    aa    AA    1.00\n",
      "7    aa    Aa    0.50\n",
      "8    aa    aa    1.00\n"
     ]
    }
   ],
   "execution_count": 11
  },
  {
   "metadata": {},
   "cell_type": "markdown",
   "source": "## Excercise 7.11",
   "id": "34233eb944031fc3"
  },
  {
   "metadata": {
    "ExecuteTime": {
     "end_time": "2024-10-07T14:16:02.346719Z",
     "start_time": "2024-10-07T14:16:02.340816Z"
    }
   },
   "cell_type": "code",
   "source": [
    "import pandas as pd\n",
    "\n",
    "# a. Same as before, for the genotypes table in Table 7.1, only now Rr are (Rh-)\n",
    "mat_v = [\"RR\", \"Rr\", \"Rr\", \"Rr\", \"rr\"]\n",
    "pat_v = [\"all\", \"RR\", \"Rr\", \"rr\", \"all\"]\n",
    "freq_v = [\"f_RR\", \"f_Rr*f_RR\", \"f_Rr^2\", \"f_Rr*F_rr\", \"f_rr\"]\n",
    "viab_v = [\"1\", \"1-s/2\", \"1-s/4\", \"1\", \"1\"]\n",
    "\n",
    "matepairs = pd.DataFrame({\n",
    "    'mat_v': mat_v,\n",
    "    'pat_v': pat_v,\n",
    "    'freq_v': freq_v,\n",
    "    'viab_v': viab_v\n",
    "})\n",
    "\n",
    "print(matepairs)\n",
    "\n",
    "# Note that, under the new dominance model, any rr mother would result in r-phenotype (Rh-) offspring;\n",
    "# viability is reduced only when maternal genotype is Rr and the paternal one is either RR or Rr;\n",
    "# since paternal RR would result in twice as many Rr offspring as paternal Rr,\n",
    "# viability loss in RRxRr would be twice as large as for RrxRr.\n",
    "\n",
    "# b. As heterozygote disadvantage is still the observed pattern of selection,\n",
    "# the trends shown in Figure 7.7 still apply - if either allele would be very rare,\n",
    "# there would be decreased frequency - evidencing, as before, disruptive selection."
   ],
   "id": "f639fc17953ed6c7",
   "outputs": [
    {
     "name": "stdout",
     "output_type": "stream",
     "text": [
      "  mat_v pat_v     freq_v viab_v\n",
      "0    RR   all       f_RR      1\n",
      "1    Rr    RR  f_Rr*f_RR  1-s/2\n",
      "2    Rr    Rr     f_Rr^2  1-s/4\n",
      "3    Rr    rr  f_Rr*F_rr      1\n",
      "4    rr   all       f_rr      1\n"
     ]
    }
   ],
   "execution_count": 12
  },
  {
   "metadata": {},
   "cell_type": "markdown",
   "source": "## Excercise 7.12",
   "id": "16cd24ae5a2bc339"
  },
  {
   "metadata": {
    "ExecuteTime": {
     "end_time": "2024-10-07T14:16:58.049355Z",
     "start_time": "2024-10-07T14:16:58.045905Z"
    }
   },
   "cell_type": "code",
   "source": [
    "# Very large population; five alleles S1-S5 of equal frequency 0.2\n",
    "f_S1 = 0.2\n",
    "f_S2 = f_S1\n",
    "f_S3 = f_S1\n",
    "f_S4 = f_S1\n",
    "f_S5 = f_S1\n",
    "\n",
    "# a. Random mating and no homozygotes would give:\n",
    "# S1S2; S1S3; S1S4; S1S5; S2S3; S2S4; S2S5; S3S4; S3S5; S4S5\n",
    "# a total of 10 possible heterozygotes, each at frequency 0.1\n",
    "\n",
    "# b. There is now a newly introduced allele S6; this has to be present in a heterozygote;\n",
    "# since all other alleles have equal frequencies, it does not matter which one we pick;\n",
    "# let's go with S1, our heterozygote will be S1S6; therefore, with non-viable self-fertilisation:\n",
    "\n",
    "# S1 pollen from the mutant will not be able to fertilise S1 hets from above,\n",
    "# so 0.4 of other individuals; this is also the case for any given original allele in the population.\n",
    "# S6 pollen will be able to fertilise all other individuals;\n",
    "# so whereas any other individual would fertilise 0.6*0.6 others,\n",
    "# the mutant would be able to fertilise 0.6*1. So it will have:\n",
    "\n",
    "result = (1 * 0.6) / (0.6 * 0.6)\n",
    "print(result)"
   ],
   "id": "d9070c4db87a4eab",
   "outputs": [
    {
     "name": "stdout",
     "output_type": "stream",
     "text": [
      "1.6666666666666667\n"
     ]
    }
   ],
   "execution_count": 13
  },
  {
   "metadata": {},
   "cell_type": "markdown",
   "source": "## Excercise 7.13",
   "id": "25ebc1af75f6ce48"
  },
  {
   "metadata": {
    "ExecuteTime": {
     "end_time": "2024-10-07T14:17:42.178585Z",
     "start_time": "2024-10-07T14:17:41.381429Z"
    }
   },
   "cell_type": "code",
   "source": [
    "# Define the function for average viability\n",
    "def avg_viab(f_A, v_AA, v_Aa, v_aa):\n",
    "    avviab = (f_A**2 * v_AA) + (2 * f_A * (1 - f_A) * v_Aa) + ((1 - f_A)**2 * v_aa)\n",
    "    return avviab\n",
    "\n",
    "# Define the possible values for f_A\n",
    "f_A = np.arange(0, 1.01, 0.01)\n",
    "\n",
    "# Define the viability sets\n",
    "set_1 = {'v_AA': 0.5, 'v_Aa': 0.4, 'v_aa': 0.3}\n",
    "set_2 = {'v_AA': 0.4, 'v_Aa': 0.5, 'v_aa': 0.3}\n",
    "set_3 = {'v_AA': 0.5, 'v_Aa': 0.3, 'v_aa': 0.4}\n",
    "\n",
    "# Calculate the average viability for each case\n",
    "y_values_1 = avg_viab(f_A, set_1['v_AA'], set_1['v_Aa'], set_1['v_aa'])\n",
    "y_values_2 = avg_viab(f_A, set_2['v_AA'], set_2['v_Aa'], set_2['v_aa'])\n",
    "y_values_3 = avg_viab(f_A, set_3['v_AA'], set_3['v_Aa'], set_3['v_aa'])\n",
    "\n",
    "# Plot the curves\n",
    "plt.plot(f_A, y_values_1, color='blue', label='Set 1')\n",
    "plt.plot(f_A, y_values_2, color='red', label='Set 2')\n",
    "plt.plot(f_A, y_values_3, color='green', label='Set 3')\n",
    "\n",
    "# Add labels and legend\n",
    "plt.xlabel('f_A')\n",
    "plt.ylabel('avg_viab')\n",
    "plt.ylim([min(min(y_values_1), min(y_values_2), min(y_values_3)), \n",
    "            max(max(y_values_1), max(y_values_2), max(y_values_3))])\n",
    "plt.legend(loc='upper right')\n",
    "plt.title('Average Viability across different f_A values')\n",
    "plt.grid()\n",
    "plt.show()"
   ],
   "id": "c5615f23926b82d8",
   "outputs": [
    {
     "data": {
      "text/plain": [
       "<Figure size 640x480 with 1 Axes>"
      ],
      "image/png": "[encoded data removed]"
     },
     "metadata": {},
     "output_type": "display_data"
    }
   ],
   "execution_count": 14
  },
  {
   "metadata": {},
   "cell_type": "code",
   "outputs": [],
   "execution_count": null,
   "source": "",
   "id": "866a1e4d8b0714d"
  }
 ],
 "metadata": {
  "kernelspec": {
   "display_name": "Python 3",
   "language": "python",
   "name": "python3"
  },
  "language_info": {
   "codemirror_mode": {
    "name": "ipython",
    "version": 2
   },
   "file_extension": ".py",
   "mimetype": "text/x-python",
   "name": "python",
   "nbconvert_exporter": "python",
   "pygments_lexer": "ipython2",
   "version": "2.7.6"
  }
 },
 "nbformat": 4,
 "nbformat_minor": 5
}
