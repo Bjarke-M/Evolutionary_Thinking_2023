{
 "cells": [
  {
   "metadata": {},
   "cell_type": "markdown",
   "source": [
    "You can install the dependencies for this session (include Jupyter) by using mamba/conda and the provided `env.yaml` file:\n",
    "```{bash}\n",
    "mamba env create -f env.yaml\n",
    "```\n",
    "\n",
    "In `WrightFisherTutorial.ipynb`, we simulated the frequency of an allele forward in time. In this tutorial, we will instead simulate the genealogy of several individuals backward in time. This process is known as the coalescent and is widely used in population genetics. One of main advantages of coalescent simulations is that they are computationally efficient as we only keep track of a few individuals when going back in time. However, one drawback is that is it very difficult to incorporate selection. We will be using `msprime`, a popular and widely used coalescent simulator, to simulate genealogies.\n"
   ],
   "id": "e513de64bdd03cf2"
  },
  {
   "metadata": {},
   "cell_type": "markdown",
   "source": "Let's begin by drawing some trees for a sample of 5 individuals using an effective population of size 10,000. Note that each leave and node of the tree is labeled by an integer. For more information on the parameters of `sim_ancestry`, see the [documentation](https://tskit.dev/msprime/docs/stable/api.html#msprime.sim_ancestry) of `msprime.sim_ancestry`.",
   "id": "16e3980e46cfdb56"
  },
  {
   "metadata": {
    "ExecuteTime": {
     "end_time": "2024-09-22T09:46:22.188354Z",
     "start_time": "2024-09-22T09:46:22.180179Z"
    }
   },
   "cell_type": "code",
   "source": [
    "import msprime as mp\n",
    "\n",
    "# simulate 3 replicates of tree sequence of length 1\n",
    "ts = mp.sim_ancestry(samples=5, population_size=10000, num_replicates=3, ploidy=1)\n",
    "for tree in ts:\n",
    "    \n",
    "    # obtain first (and only) tree of the tree sequence\n",
    "    tree = tree.first()\n",
    "    \n",
    "    # draw tree\n",
    "    print(tree.draw_text())"
   ],
   "id": "bc971de78f9c8050",
   "outputs": [
    {
     "name": "stdout",
     "output_type": "stream",
     "text": [
      "   8     \n",
      "┏━━┻━━┓  \n",
      "┃     7  \n",
      "┃   ┏━┻━┓\n",
      "┃   6   ┃\n",
      "┃  ┏┻━┓ ┃\n",
      "┃  5  ┃ ┃\n",
      "┃ ┏┻┓ ┃ ┃\n",
      "0 1 2 4 3\n",
      "\n",
      "    8    \n",
      "  ┏━┻━━┓ \n",
      "  7    ┃ \n",
      " ┏┻━┓  ┃ \n",
      " ┃  ┃  6 \n",
      " ┃  ┃ ┏┻┓\n",
      " 5  ┃ ┃ ┃\n",
      "┏┻┓ ┃ ┃ ┃\n",
      "0 3 4 1 2\n",
      "\n",
      "      8  \n",
      "    ┏━┻━┓\n",
      "    7   ┃\n",
      "  ┏━┻━┓ ┃\n",
      "  6   ┃ ┃\n",
      " ┏┻━┓ ┃ ┃\n",
      " 5  ┃ ┃ ┃\n",
      "┏┻┓ ┃ ┃ ┃\n",
      "0 2 3 4 1\n",
      "\n"
     ]
    }
   ],
   "execution_count": 47
  },
  {
   "metadata": {},
   "cell_type": "markdown",
   "source": "Can you determine the average time to the first coalescent event for such trees? You have to generate more replicates to obtain good estimates. You can use `tree.time(5)` to do this (see [documentation](https://tskit.dev/tskit/docs/stable/python-api.html#tskit.Tree.time) for more information). Does the average time agree with the theoretical expectation?",
   "id": "cc5a49f4fa3dc58f"
  },
  {
   "metadata": {
    "ExecuteTime": {
     "end_time": "2024-09-22T09:24:21.714679Z",
     "start_time": "2024-09-22T09:24:21.628063Z"
    }
   },
   "cell_type": "code",
   "source": "# YOUR CODE HERE",
   "id": "f11518ddff9fbda",
   "outputs": [
    {
     "data": {
      "text/plain": [
       "(5429.117853878306, 15340734.75991619)"
      ]
     },
     "execution_count": 25,
     "metadata": {},
     "output_type": "execute_result"
    }
   ],
   "execution_count": 25
  },
  {
   "metadata": {},
   "cell_type": "markdown",
   "source": "Bonus: plot the distribution of the time to the first coalescent event. How does it look like?",
   "id": "be2078c5ce3df9a9"
  },
  {
   "metadata": {},
   "cell_type": "code",
   "outputs": [],
   "execution_count": null,
   "source": "# YOUR CODE HERE",
   "id": "edeef549430f3a98"
  },
  {
   "metadata": {},
   "cell_type": "markdown",
   "source": "Now determine the mean and variance of the tree height for such trees. Note that you can use `tree.time(tree.root)` to obtain the height of the tree. Does the result agree with the theoretical expectations?",
   "id": "b19f18e886ec6b64"
  },
  {
   "metadata": {
    "ExecuteTime": {
     "end_time": "2024-09-22T09:04:47.109078Z",
     "start_time": "2024-09-22T09:04:47.092929Z"
    }
   },
   "cell_type": "code",
   "source": "# YOUR CODE HERE",
   "id": "107816eff9b8d616",
   "outputs": [
    {
     "data": {
      "text/plain": [
       "32767.86277914525"
      ]
     },
     "execution_count": 24,
     "metadata": {},
     "output_type": "execute_result"
    }
   ],
   "execution_count": 24
  },
  {
   "metadata": {},
   "cell_type": "markdown",
   "source": "We will now add some demography to our simulations, namely two subpopulations with migration between them. We start with two lineages in each subpopulation. Coalescent events can only take place within subpopulations.",
   "id": "1cc70588eb0376f4"
  },
  {
   "metadata": {
    "ExecuteTime": {
     "end_time": "2024-09-22T09:43:57.890495Z",
     "start_time": "2024-09-22T09:43:57.883035Z"
    }
   },
   "cell_type": "code",
   "source": [
    "demography = mp.Demography()\n",
    "demography.add_population(name=\"pop_0\", initial_size=10000)\n",
    "demography.add_population(name=\"pop_1\", initial_size=10000)\n",
    "demography.set_symmetric_migration_rate(populations=[\"pop_0\", \"pop_1\"], rate=1e-6)\n",
    "\n",
    "ts = mp.sim_ancestry(\n",
    "    samples={'pop_0': 2, 'pop_1': 2},\n",
    "    num_replicates=3,\n",
    "    ploidy=1,\n",
    "    demography=demography\n",
    ")"
   ],
   "id": "270baca5d65bbf0",
   "outputs": [],
   "execution_count": 46
  },
  {
   "metadata": {},
   "cell_type": "markdown",
   "source": "Here the migration rate is set to be much smaller than the coalescence rate. How do you expect the genealogies to look like? Draw some trees to verify your expectations.",
   "id": "a851881054ee1bdb"
  },
  {
   "metadata": {},
   "cell_type": "code",
   "outputs": [],
   "execution_count": null,
   "source": "# YOUR CODE HERE",
   "id": "7e0c9ddd55d9cd65"
  },
  {
   "metadata": {},
   "cell_type": "markdown",
   "source": "Bonus: Plot the tree height distribution for a single population going through a bottleneck. How does it look like?",
   "id": "2f444ade5e5b74e1"
  },
  {
   "metadata": {},
   "cell_type": "code",
   "outputs": [],
   "execution_count": null,
   "source": "# YOUR CODE HERE",
   "id": "c8f84a14b2400bf9"
  }
 ],
 "metadata": {
  "kernelspec": {
   "display_name": "Python 3",
   "language": "python",
   "name": "python3"
  },
  "language_info": {
   "codemirror_mode": {
    "name": "ipython",
    "version": 2
   },
   "file_extension": ".py",
   "mimetype": "text/x-python",
   "name": "python",
   "nbconvert_exporter": "python",
   "pygments_lexer": "ipython2",
   "version": "2.7.6"
  }
 },
 "nbformat": 4,
 "nbformat_minor": 5
}
